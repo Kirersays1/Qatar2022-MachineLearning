{
 "cells": [
  {
   "cell_type": "code",
   "execution_count": 1,
   "id": "initial_id",
   "metadata": {
    "collapsed": true,
    "ExecuteTime": {
     "end_time": "2024-05-31T16:45:01.964151Z",
     "start_time": "2024-05-31T16:45:01.960546Z"
    }
   },
   "outputs": [],
   "source": [
    "import pandas as pd\n",
    "import numpy as np\n",
    "import seaborn as sns\n",
    "import matplotlib.pyplot as plt"
   ]
  },
  {
   "cell_type": "code",
   "outputs": [],
   "source": [
    "fifa_historical_file = './data/fifa_worldcup_matches.csv'\n",
    "fifa_fixture_file = './data/fifa_worldcup_fixture.csv'\n",
    "fifa_missing_file = './data/fifa_worldcup_missing_data.csv'\n",
    "\n",
    "df_fix = pd.read_csv(fifa_fixture_file)\n",
    "df_historical = pd.read_csv(fifa_historical_file)\n",
    "df_missing = pd.read_csv(fifa_missing_file)"
   ],
   "metadata": {
    "collapsed": false,
    "ExecuteTime": {
     "end_time": "2024-05-31T16:45:01.991953Z",
     "start_time": "2024-05-31T16:45:01.965156Z"
    }
   },
   "id": "749ca0bb7b97e916",
   "execution_count": 2
  },
  {
   "cell_type": "code",
   "outputs": [
    {
     "data": {
      "text/plain": "                home     score              away  year\n0             Qatar    Match 1           Ecuador  2022\n1           Senegal    Match 2       Netherlands  2022\n2             Qatar   Match 18           Senegal  2022\n3       Netherlands   Match 19           Ecuador  2022\n4           Ecuador   Match 35           Senegal  2022\n..               ...       ...               ...   ...\n59  Winners Match 51  Match 59  Winners Match 52  2022\n60  Winners Match 57  Match 61  Winners Match 58  2022\n61  Winners Match 59  Match 62  Winners Match 60  2022\n62   Losers Match 61  Match 63   Losers Match 62  2022\n63  Winners Match 61  Match 64  Winners Match 62  2022\n\n[64 rows x 4 columns]",
      "text/html": "<div>\n<style scoped>\n    .dataframe tbody tr th:only-of-type {\n        vertical-align: middle;\n    }\n\n    .dataframe tbody tr th {\n        vertical-align: top;\n    }\n\n    .dataframe thead th {\n        text-align: right;\n    }\n</style>\n<table border=\"1\" class=\"dataframe\">\n  <thead>\n    <tr style=\"text-align: right;\">\n      <th></th>\n      <th>home</th>\n      <th>score</th>\n      <th>away</th>\n      <th>year</th>\n    </tr>\n  </thead>\n  <tbody>\n    <tr>\n      <th>0</th>\n      <td>Qatar</td>\n      <td>Match 1</td>\n      <td>Ecuador</td>\n      <td>2022</td>\n    </tr>\n    <tr>\n      <th>1</th>\n      <td>Senegal</td>\n      <td>Match 2</td>\n      <td>Netherlands</td>\n      <td>2022</td>\n    </tr>\n    <tr>\n      <th>2</th>\n      <td>Qatar</td>\n      <td>Match 18</td>\n      <td>Senegal</td>\n      <td>2022</td>\n    </tr>\n    <tr>\n      <th>3</th>\n      <td>Netherlands</td>\n      <td>Match 19</td>\n      <td>Ecuador</td>\n      <td>2022</td>\n    </tr>\n    <tr>\n      <th>4</th>\n      <td>Ecuador</td>\n      <td>Match 35</td>\n      <td>Senegal</td>\n      <td>2022</td>\n    </tr>\n    <tr>\n      <th>...</th>\n      <td>...</td>\n      <td>...</td>\n      <td>...</td>\n      <td>...</td>\n    </tr>\n    <tr>\n      <th>59</th>\n      <td>Winners Match 51</td>\n      <td>Match 59</td>\n      <td>Winners Match 52</td>\n      <td>2022</td>\n    </tr>\n    <tr>\n      <th>60</th>\n      <td>Winners Match 57</td>\n      <td>Match 61</td>\n      <td>Winners Match 58</td>\n      <td>2022</td>\n    </tr>\n    <tr>\n      <th>61</th>\n      <td>Winners Match 59</td>\n      <td>Match 62</td>\n      <td>Winners Match 60</td>\n      <td>2022</td>\n    </tr>\n    <tr>\n      <th>62</th>\n      <td>Losers Match 61</td>\n      <td>Match 63</td>\n      <td>Losers Match 62</td>\n      <td>2022</td>\n    </tr>\n    <tr>\n      <th>63</th>\n      <td>Winners Match 61</td>\n      <td>Match 64</td>\n      <td>Winners Match 62</td>\n      <td>2022</td>\n    </tr>\n  </tbody>\n</table>\n<p>64 rows × 4 columns</p>\n</div>"
     },
     "execution_count": 3,
     "metadata": {},
     "output_type": "execute_result"
    }
   ],
   "source": [
    "df_fix"
   ],
   "metadata": {
    "collapsed": false,
    "ExecuteTime": {
     "end_time": "2024-05-31T16:45:02.012551Z",
     "start_time": "2024-05-31T16:45:01.993952Z"
    }
   },
   "id": "4522af1fc3b5fd97",
   "execution_count": 3
  },
  {
   "cell_type": "code",
   "outputs": [
    {
     "data": {
      "text/plain": "           home         score      away  year\n0       France            4–1    Mexico  1930\n1    Argentina            1–0    France  1930\n2        Chile            3–0    Mexico  1930\n3        Chile            1–0    France  1930\n4    Argentina            6–3    Mexico  1930\n..          ...           ...       ...   ...\n452     Russia   2–2 (a.e.t.)   Croatia  2018\n453     France            1–0   Belgium  2018\n454    Croatia   2–1 (a.e.t.)   England  2018\n455    Belgium            2–0   England  2018\n456     France            4–2   Croatia  2018\n\n[457 rows x 4 columns]",
      "text/html": "<div>\n<style scoped>\n    .dataframe tbody tr th:only-of-type {\n        vertical-align: middle;\n    }\n\n    .dataframe tbody tr th {\n        vertical-align: top;\n    }\n\n    .dataframe thead th {\n        text-align: right;\n    }\n</style>\n<table border=\"1\" class=\"dataframe\">\n  <thead>\n    <tr style=\"text-align: right;\">\n      <th></th>\n      <th>home</th>\n      <th>score</th>\n      <th>away</th>\n      <th>year</th>\n    </tr>\n  </thead>\n  <tbody>\n    <tr>\n      <th>0</th>\n      <td>France</td>\n      <td>4–1</td>\n      <td>Mexico</td>\n      <td>1930</td>\n    </tr>\n    <tr>\n      <th>1</th>\n      <td>Argentina</td>\n      <td>1–0</td>\n      <td>France</td>\n      <td>1930</td>\n    </tr>\n    <tr>\n      <th>2</th>\n      <td>Chile</td>\n      <td>3–0</td>\n      <td>Mexico</td>\n      <td>1930</td>\n    </tr>\n    <tr>\n      <th>3</th>\n      <td>Chile</td>\n      <td>1–0</td>\n      <td>France</td>\n      <td>1930</td>\n    </tr>\n    <tr>\n      <th>4</th>\n      <td>Argentina</td>\n      <td>6–3</td>\n      <td>Mexico</td>\n      <td>1930</td>\n    </tr>\n    <tr>\n      <th>...</th>\n      <td>...</td>\n      <td>...</td>\n      <td>...</td>\n      <td>...</td>\n    </tr>\n    <tr>\n      <th>452</th>\n      <td>Russia</td>\n      <td>2–2 (a.e.t.)</td>\n      <td>Croatia</td>\n      <td>2018</td>\n    </tr>\n    <tr>\n      <th>453</th>\n      <td>France</td>\n      <td>1–0</td>\n      <td>Belgium</td>\n      <td>2018</td>\n    </tr>\n    <tr>\n      <th>454</th>\n      <td>Croatia</td>\n      <td>2–1 (a.e.t.)</td>\n      <td>England</td>\n      <td>2018</td>\n    </tr>\n    <tr>\n      <th>455</th>\n      <td>Belgium</td>\n      <td>2–0</td>\n      <td>England</td>\n      <td>2018</td>\n    </tr>\n    <tr>\n      <th>456</th>\n      <td>France</td>\n      <td>4–2</td>\n      <td>Croatia</td>\n      <td>2018</td>\n    </tr>\n  </tbody>\n</table>\n<p>457 rows × 4 columns</p>\n</div>"
     },
     "execution_count": 4,
     "metadata": {},
     "output_type": "execute_result"
    }
   ],
   "source": [
    "df_historical"
   ],
   "metadata": {
    "collapsed": false,
    "ExecuteTime": {
     "end_time": "2024-05-31T16:45:02.025374Z",
     "start_time": "2024-05-31T16:45:02.013549Z"
    }
   },
   "id": "4166f6867c39e2e0",
   "execution_count": 4
  },
  {
   "cell_type": "code",
   "outputs": [
    {
     "data": {
      "text/plain": "<Figure size 640x480 with 1 Axes>",
      "image/png": "[encoded data removed]"
     },
     "metadata": {},
     "output_type": "display_data"
    }
   ],
   "source": [
    "def percent_missing(df):\n",
    "    percent_nan = 100*df.isnull().sum()/len(df)\n",
    "    percent_nan = percent_nan[percent_nan > 0].sort_values()\n",
    "    return(percent_nan)\n",
    "\n",
    "percent_nan = percent_missing(df_missing)\n",
    "\n",
    "sns.barplot(x=percent_nan.index, y=percent_nan)\n",
    "plt.xticks(rotation=90)\n",
    "plt.show()\n"
   ],
   "metadata": {
    "collapsed": false,
    "ExecuteTime": {
     "end_time": "2024-05-31T16:45:02.234463Z",
     "start_time": "2024-05-31T16:45:02.026389Z"
    }
   },
   "id": "35a839a547f7a394",
   "execution_count": 5
  },
  {
   "cell_type": "markdown",
   "source": [
    "<h1> Cleaning df_fixture </h1> "
   ],
   "metadata": {
    "collapsed": false
   },
   "id": "b6b70d155cbfe17"
  },
  {
   "cell_type": "code",
   "outputs": [
    {
     "data": {
      "text/plain": "                home     score              away  year\n0              Qatar   Match 1           Ecuador  2022\n1            Senegal   Match 2       Netherlands  2022\n2              Qatar  Match 18           Senegal  2022\n3        Netherlands  Match 19           Ecuador  2022\n4            Ecuador  Match 35           Senegal  2022\n..               ...       ...               ...   ...\n59  Winners Match 51  Match 59  Winners Match 52  2022\n60  Winners Match 57  Match 61  Winners Match 58  2022\n61  Winners Match 59  Match 62  Winners Match 60  2022\n62   Losers Match 61  Match 63   Losers Match 62  2022\n63  Winners Match 61  Match 64  Winners Match 62  2022\n\n[64 rows x 4 columns]",
      "text/html": "<div>\n<style scoped>\n    .dataframe tbody tr th:only-of-type {\n        vertical-align: middle;\n    }\n\n    .dataframe tbody tr th {\n        vertical-align: top;\n    }\n\n    .dataframe thead th {\n        text-align: right;\n    }\n</style>\n<table border=\"1\" class=\"dataframe\">\n  <thead>\n    <tr style=\"text-align: right;\">\n      <th></th>\n      <th>home</th>\n      <th>score</th>\n      <th>away</th>\n      <th>year</th>\n    </tr>\n  </thead>\n  <tbody>\n    <tr>\n      <th>0</th>\n      <td>Qatar</td>\n      <td>Match 1</td>\n      <td>Ecuador</td>\n      <td>2022</td>\n    </tr>\n    <tr>\n      <th>1</th>\n      <td>Senegal</td>\n      <td>Match 2</td>\n      <td>Netherlands</td>\n      <td>2022</td>\n    </tr>\n    <tr>\n      <th>2</th>\n      <td>Qatar</td>\n      <td>Match 18</td>\n      <td>Senegal</td>\n      <td>2022</td>\n    </tr>\n    <tr>\n      <th>3</th>\n      <td>Netherlands</td>\n      <td>Match 19</td>\n      <td>Ecuador</td>\n      <td>2022</td>\n    </tr>\n    <tr>\n      <th>4</th>\n      <td>Ecuador</td>\n      <td>Match 35</td>\n      <td>Senegal</td>\n      <td>2022</td>\n    </tr>\n    <tr>\n      <th>...</th>\n      <td>...</td>\n      <td>...</td>\n      <td>...</td>\n      <td>...</td>\n    </tr>\n    <tr>\n      <th>59</th>\n      <td>Winners Match 51</td>\n      <td>Match 59</td>\n      <td>Winners Match 52</td>\n      <td>2022</td>\n    </tr>\n    <tr>\n      <th>60</th>\n      <td>Winners Match 57</td>\n      <td>Match 61</td>\n      <td>Winners Match 58</td>\n      <td>2022</td>\n    </tr>\n    <tr>\n      <th>61</th>\n      <td>Winners Match 59</td>\n      <td>Match 62</td>\n      <td>Winners Match 60</td>\n      <td>2022</td>\n    </tr>\n    <tr>\n      <th>62</th>\n      <td>Losers Match 61</td>\n      <td>Match 63</td>\n      <td>Losers Match 62</td>\n      <td>2022</td>\n    </tr>\n    <tr>\n      <th>63</th>\n      <td>Winners Match 61</td>\n      <td>Match 64</td>\n      <td>Winners Match 62</td>\n      <td>2022</td>\n    </tr>\n  </tbody>\n</table>\n<p>64 rows × 4 columns</p>\n</div>"
     },
     "execution_count": 6,
     "metadata": {},
     "output_type": "execute_result"
    }
   ],
   "source": [
    "df_fix['home'] = df_fix['home'].str.strip()\n",
    "df_fix['away'] = df_fix['away'].str.strip()\n",
    "df_fix"
   ],
   "metadata": {
    "collapsed": false,
    "ExecuteTime": {
     "end_time": "2024-05-31T16:45:02.249996Z",
     "start_time": "2024-05-31T16:45:02.235468Z"
    }
   },
   "id": "45b7de0640611654",
   "execution_count": 6
  },
  {
   "cell_type": "markdown",
   "source": [
    "<h1> Cleaning df_missing_data and adding to df_historical </h1>"
   ],
   "metadata": {
    "collapsed": false
   },
   "id": "3cfa1accfa6447ee"
  },
  {
   "cell_type": "code",
   "outputs": [
    {
     "data": {
      "text/plain": "           home score            away  year\n0       France    4–1          Mexico  1930\n17     Uruguay    4–2       Argentina  1930\n16     Uruguay    6–1      Yugoslavia  1930\n15   Argentina    6–1   United States  1930\n14    Paraguay    1–0         Belgium  1930\n..          ...   ...             ...   ...\n419     Brazil    2–0      Costa Rica  2018\n420     Serbia    1–2     Switzerland  2018\n421     Serbia    0–2          Brazil  2018\n408     France    1–0            Peru  2018\n450     Brazil    1–2         Belgium  2018\n\n[901 rows x 4 columns]",
      "text/html": "<div>\n<style scoped>\n    .dataframe tbody tr th:only-of-type {\n        vertical-align: middle;\n    }\n\n    .dataframe tbody tr th {\n        vertical-align: top;\n    }\n\n    .dataframe thead th {\n        text-align: right;\n    }\n</style>\n<table border=\"1\" class=\"dataframe\">\n  <thead>\n    <tr style=\"text-align: right;\">\n      <th></th>\n      <th>home</th>\n      <th>score</th>\n      <th>away</th>\n      <th>year</th>\n    </tr>\n  </thead>\n  <tbody>\n    <tr>\n      <th>0</th>\n      <td>France</td>\n      <td>4–1</td>\n      <td>Mexico</td>\n      <td>1930</td>\n    </tr>\n    <tr>\n      <th>17</th>\n      <td>Uruguay</td>\n      <td>4–2</td>\n      <td>Argentina</td>\n      <td>1930</td>\n    </tr>\n    <tr>\n      <th>16</th>\n      <td>Uruguay</td>\n      <td>6–1</td>\n      <td>Yugoslavia</td>\n      <td>1930</td>\n    </tr>\n    <tr>\n      <th>15</th>\n      <td>Argentina</td>\n      <td>6–1</td>\n      <td>United States</td>\n      <td>1930</td>\n    </tr>\n    <tr>\n      <th>14</th>\n      <td>Paraguay</td>\n      <td>1–0</td>\n      <td>Belgium</td>\n      <td>1930</td>\n    </tr>\n    <tr>\n      <th>...</th>\n      <td>...</td>\n      <td>...</td>\n      <td>...</td>\n      <td>...</td>\n    </tr>\n    <tr>\n      <th>419</th>\n      <td>Brazil</td>\n      <td>2–0</td>\n      <td>Costa Rica</td>\n      <td>2018</td>\n    </tr>\n    <tr>\n      <th>420</th>\n      <td>Serbia</td>\n      <td>1–2</td>\n      <td>Switzerland</td>\n      <td>2018</td>\n    </tr>\n    <tr>\n      <th>421</th>\n      <td>Serbia</td>\n      <td>0–2</td>\n      <td>Brazil</td>\n      <td>2018</td>\n    </tr>\n    <tr>\n      <th>408</th>\n      <td>France</td>\n      <td>1–0</td>\n      <td>Peru</td>\n      <td>2018</td>\n    </tr>\n    <tr>\n      <th>450</th>\n      <td>Brazil</td>\n      <td>1–2</td>\n      <td>Belgium</td>\n      <td>2018</td>\n    </tr>\n  </tbody>\n</table>\n<p>901 rows × 4 columns</p>\n</div>"
     },
     "execution_count": 7,
     "metadata": {},
     "output_type": "execute_result"
    }
   ],
   "source": [
    "#Droping missing data, concatenate, delete duplicates and sorting by year\n",
    "df_missing.dropna(inplace=True)\n",
    "df_historical = pd.concat([df_historical, df_missing], ignore_index=True)\n",
    "df_historical.drop_duplicates(inplace=True)\n",
    "df_historical.sort_values('year',inplace=True)\n",
    "df_historical"
   ],
   "metadata": {
    "collapsed": false,
    "ExecuteTime": {
     "end_time": "2024-05-31T16:45:02.267520Z",
     "start_time": "2024-05-31T16:45:02.250993Z"
    }
   },
   "id": "9e024e2dfcc6f450",
   "execution_count": 7
  },
  {
   "cell_type": "markdown",
   "source": [
    "<h1> Cleaning df_historical data </h1>"
   ],
   "metadata": {
    "collapsed": false
   },
   "id": "80dc910e4a6d8e50"
  },
  {
   "cell_type": "code",
   "outputs": [
    {
     "data": {
      "text/plain": "      HomeTeam       AwayTeam  Year  HomeGoals  AwayGoals  TotalGoals\n0       France         Mexico  1930          4          1           5\n17     Uruguay      Argentina  1930          4          2           6\n16     Uruguay     Yugoslavia  1930          6          1           7\n15   Argentina  United States  1930          6          1           7\n14    Paraguay        Belgium  1930          1          0           1\n..         ...            ...   ...        ...        ...         ...\n419     Brazil     Costa Rica  2018          2          0           2\n420     Serbia    Switzerland  2018          1          2           3\n421     Serbia         Brazil  2018          0          2           2\n408     France           Peru  2018          1          0           1\n450     Brazil        Belgium  2018          1          2           3\n\n[900 rows x 6 columns]",
      "text/html": "<div>\n<style scoped>\n    .dataframe tbody tr th:only-of-type {\n        vertical-align: middle;\n    }\n\n    .dataframe tbody tr th {\n        vertical-align: top;\n    }\n\n    .dataframe thead th {\n        text-align: right;\n    }\n</style>\n<table border=\"1\" class=\"dataframe\">\n  <thead>\n    <tr style=\"text-align: right;\">\n      <th></th>\n      <th>HomeTeam</th>\n      <th>AwayTeam</th>\n      <th>Year</th>\n      <th>HomeGoals</th>\n      <th>AwayGoals</th>\n      <th>TotalGoals</th>\n    </tr>\n  </thead>\n  <tbody>\n    <tr>\n      <th>0</th>\n      <td>France</td>\n      <td>Mexico</td>\n      <td>1930</td>\n      <td>4</td>\n      <td>1</td>\n      <td>5</td>\n    </tr>\n    <tr>\n      <th>17</th>\n      <td>Uruguay</td>\n      <td>Argentina</td>\n      <td>1930</td>\n      <td>4</td>\n      <td>2</td>\n      <td>6</td>\n    </tr>\n    <tr>\n      <th>16</th>\n      <td>Uruguay</td>\n      <td>Yugoslavia</td>\n      <td>1930</td>\n      <td>6</td>\n      <td>1</td>\n      <td>7</td>\n    </tr>\n    <tr>\n      <th>15</th>\n      <td>Argentina</td>\n      <td>United States</td>\n      <td>1930</td>\n      <td>6</td>\n      <td>1</td>\n      <td>7</td>\n    </tr>\n    <tr>\n      <th>14</th>\n      <td>Paraguay</td>\n      <td>Belgium</td>\n      <td>1930</td>\n      <td>1</td>\n      <td>0</td>\n      <td>1</td>\n    </tr>\n    <tr>\n      <th>...</th>\n      <td>...</td>\n      <td>...</td>\n      <td>...</td>\n      <td>...</td>\n      <td>...</td>\n      <td>...</td>\n    </tr>\n    <tr>\n      <th>419</th>\n      <td>Brazil</td>\n      <td>Costa Rica</td>\n      <td>2018</td>\n      <td>2</td>\n      <td>0</td>\n      <td>2</td>\n    </tr>\n    <tr>\n      <th>420</th>\n      <td>Serbia</td>\n      <td>Switzerland</td>\n      <td>2018</td>\n      <td>1</td>\n      <td>2</td>\n      <td>3</td>\n    </tr>\n    <tr>\n      <th>421</th>\n      <td>Serbia</td>\n      <td>Brazil</td>\n      <td>2018</td>\n      <td>0</td>\n      <td>2</td>\n      <td>2</td>\n    </tr>\n    <tr>\n      <th>408</th>\n      <td>France</td>\n      <td>Peru</td>\n      <td>2018</td>\n      <td>1</td>\n      <td>0</td>\n      <td>1</td>\n    </tr>\n    <tr>\n      <th>450</th>\n      <td>Brazil</td>\n      <td>Belgium</td>\n      <td>2018</td>\n      <td>1</td>\n      <td>2</td>\n      <td>3</td>\n    </tr>\n  </tbody>\n</table>\n<p>900 rows × 6 columns</p>\n</div>"
     },
     "execution_count": 8,
     "metadata": {},
     "output_type": "execute_result"
    }
   ],
   "source": [
    "# deleting match with walk over\n",
    "delete_index = df_historical[df_historical['home'].str.contains('Sweden') &\n",
    "                             df_historical['away'].str.contains('Austria')].index\n",
    "\n",
    "df_historical.drop(index=delete_index, inplace=True)\n",
    "\n",
    "# cleanning score and home/away columns\n",
    "df_historical['score'] = df_historical['score'].str.replace('[^\\d–]', '', regex=True)\n",
    "df_historical['home'] = df_historical['home'].str.strip() # clean blank spaces: Yugoslavia twice\n",
    "df_historical['away'] = df_historical['away'].str.strip()\n",
    "\n",
    "# splitting score columns into home and away goals and dropping score column\n",
    "df_historical[['HomeGoals', 'AwayGoals']] = df_historical['score'].str.split('–', expand=True)\n",
    "df_historical.drop('score', axis=1, inplace=True)\n",
    "\n",
    "# renaming columns and changing data types\n",
    "df_historical.rename(columns={'home': 'HomeTeam', 'away': 'AwayTeam',\n",
    "                                   'year':'Year'}, inplace=True)\n",
    "df_historical = df_historical.astype({'HomeGoals': int, 'AwayGoals':int, 'Year': int})\n",
    "\n",
    "# creating new column \"totalgoals\"\n",
    "df_historical['TotalGoals'] = df_historical['HomeGoals'] + df_historical['AwayGoals']\n",
    "df_historical"
   ],
   "metadata": {
    "collapsed": false,
    "ExecuteTime": {
     "end_time": "2024-05-31T16:45:02.298047Z",
     "start_time": "2024-05-31T16:45:02.269042Z"
    }
   },
   "id": "5d5110e4ddc44e90",
   "execution_count": 8
  },
  {
   "cell_type": "markdown",
   "source": [
    "<h2> Exportar dataframes limpios </h2>"
   ],
   "metadata": {
    "collapsed": false
   },
   "id": "21fd35ebf9c84284"
  },
  {
   "cell_type": "code",
   "outputs": [],
   "source": [
    "df_historical.to_csv('clean_fifa_worldcup_matches.csv',index = False)\n",
    "df_fix.to_csv('clean_fifa_worldcup_fixtures.csv',index = False)"
   ],
   "metadata": {
    "collapsed": false,
    "ExecuteTime": {
     "end_time": "2024-05-31T16:45:02.314324Z",
     "start_time": "2024-05-31T16:45:02.299047Z"
    }
   },
   "id": "aedb44ab815b796c",
   "execution_count": 9
  }
 ],
 "metadata": {
  "kernelspec": {
   "display_name": "Python 3",
   "language": "python",
   "name": "python3"
  },
  "language_info": {
   "codemirror_mode": {
    "name": "ipython",
    "version": 2
   },
   "file_extension": ".py",
   "mimetype": "text/x-python",
   "name": "python",
   "nbconvert_exporter": "python",
   "pygments_lexer": "ipython2",
   "version": "2.7.6"
  }
 },
 "nbformat": 4,
 "nbformat_minor": 5
}
