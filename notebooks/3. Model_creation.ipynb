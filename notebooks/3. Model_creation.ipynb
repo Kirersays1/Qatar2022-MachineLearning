{
 "cells": [
  {
   "cell_type": "code",
   "execution_count": 1,
   "id": "initial_id",
   "metadata": {
    "collapsed": true,
    "ExecuteTime": {
     "end_time": "2024-05-31T18:29:42.381299Z",
     "start_time": "2024-05-31T18:29:42.377913Z"
    }
   },
   "outputs": [],
   "source": [
    "import pandas as pd \n",
    "import pickle\n",
    "from scipy.stats import poisson"
   ]
  },
  {
   "cell_type": "code",
   "outputs": [],
   "source": [
    "dict_table = pickle.load(open('dict_tablas', 'rb'))\n",
    "df_historical_data = pd.read_csv('clean_fifa_worldcup_matches.csv')\n",
    "df_fixture = pd.read_csv('clean_fifa_worldcup_fixtures.csv')"
   ],
   "metadata": {
    "collapsed": false,
    "ExecuteTime": {
     "end_time": "2024-05-31T18:29:42.405910Z",
     "start_time": "2024-05-31T18:29:42.382310Z"
    }
   },
   "id": "fd58d91d4e0846f5",
   "execution_count": 2
  },
  {
   "cell_type": "markdown",
   "source": [
    "<h1> 1 Calcular Team Strenght </h1>"
   ],
   "metadata": {
    "collapsed": false
   },
   "id": "9f8955a6d8ca0c90"
  },
  {
   "cell_type": "code",
   "outputs": [],
   "source": [
    "# Dividir df en df_home y df_away \n",
    "df_home = df_historical_data[['HomeTeam','HomeGoals','AwayGoals']]\n",
    "df_away = df_historical_data[['AwayTeam','HomeGoals','AwayGoals']]"
   ],
   "metadata": {
    "collapsed": false,
    "ExecuteTime": {
     "end_time": "2024-05-31T18:29:42.413893Z",
     "start_time": "2024-05-31T18:29:42.407922Z"
    }
   },
   "id": "2e331c280fcc9613",
   "execution_count": 3
  },
  {
   "cell_type": "code",
   "outputs": [],
   "source": [
    "#Renombar columnas\n",
    "df_home = df_home.rename(columns={'HomeTeam':'Team', 'HomeGoals': 'GoalsScored', 'AwayGoals': 'GoalsConceded'})\n",
    "df_away = df_away.rename(columns={'AwayTeam':'Team', 'HomeGoals': 'GoalsConceded', 'AwayGoals': 'GoalsScored'})"
   ],
   "metadata": {
    "collapsed": false,
    "ExecuteTime": {
     "end_time": "2024-05-31T18:29:42.421536Z",
     "start_time": "2024-05-31T18:29:42.414903Z"
    }
   },
   "id": "440d864beb3d79d0",
   "execution_count": 4
  },
  {
   "cell_type": "code",
   "outputs": [
    {
     "data": {
      "text/plain": "              GoalsScored  GoalsConceded\nTeam                                    \nAlgeria          1.000000       1.461538\nAngola           0.333333       0.666667\nArgentina        1.691358       1.148148\nAustralia        0.812500       1.937500\nAustria          1.482759       1.620690\n...                   ...            ...\nUruguay          1.553571       1.321429\nWales            0.800000       0.800000\nWest Germany     2.112903       1.241935\nYugoslavia       1.666667       1.272727\nZaire            0.000000       4.666667\n\n[85 rows x 2 columns]",
      "text/html": "<div>\n<style scoped>\n    .dataframe tbody tr th:only-of-type {\n        vertical-align: middle;\n    }\n\n    .dataframe tbody tr th {\n        vertical-align: top;\n    }\n\n    .dataframe thead th {\n        text-align: right;\n    }\n</style>\n<table border=\"1\" class=\"dataframe\">\n  <thead>\n    <tr style=\"text-align: right;\">\n      <th></th>\n      <th>GoalsScored</th>\n      <th>GoalsConceded</th>\n    </tr>\n    <tr>\n      <th>Team</th>\n      <th></th>\n      <th></th>\n    </tr>\n  </thead>\n  <tbody>\n    <tr>\n      <th>Algeria</th>\n      <td>1.000000</td>\n      <td>1.461538</td>\n    </tr>\n    <tr>\n      <th>Angola</th>\n      <td>0.333333</td>\n      <td>0.666667</td>\n    </tr>\n    <tr>\n      <th>Argentina</th>\n      <td>1.691358</td>\n      <td>1.148148</td>\n    </tr>\n    <tr>\n      <th>Australia</th>\n      <td>0.812500</td>\n      <td>1.937500</td>\n    </tr>\n    <tr>\n      <th>Austria</th>\n      <td>1.482759</td>\n      <td>1.620690</td>\n    </tr>\n    <tr>\n      <th>...</th>\n      <td>...</td>\n      <td>...</td>\n    </tr>\n    <tr>\n      <th>Uruguay</th>\n      <td>1.553571</td>\n      <td>1.321429</td>\n    </tr>\n    <tr>\n      <th>Wales</th>\n      <td>0.800000</td>\n      <td>0.800000</td>\n    </tr>\n    <tr>\n      <th>West Germany</th>\n      <td>2.112903</td>\n      <td>1.241935</td>\n    </tr>\n    <tr>\n      <th>Yugoslavia</th>\n      <td>1.666667</td>\n      <td>1.272727</td>\n    </tr>\n    <tr>\n      <th>Zaire</th>\n      <td>0.000000</td>\n      <td>4.666667</td>\n    </tr>\n  </tbody>\n</table>\n<p>85 rows × 2 columns</p>\n</div>"
     },
     "execution_count": 5,
     "metadata": {},
     "output_type": "execute_result"
    }
   ],
   "source": [
    "#Concatenar df_home y df_away , hacer group por team y calcular promedio\n",
    "df_team_strength = pd.concat([df_home, df_away], ignore_index=True).groupby(['Team']).mean()\n",
    "df_team_strength"
   ],
   "metadata": {
    "collapsed": false,
    "ExecuteTime": {
     "end_time": "2024-05-31T18:29:42.441971Z",
     "start_time": "2024-05-31T18:29:42.422546Z"
    }
   },
   "id": "9e85446d74220f4",
   "execution_count": 5
  },
  {
   "cell_type": "markdown",
   "source": [
    "<h2> Predict Points </h2>"
   ],
   "metadata": {
    "collapsed": false
   },
   "id": "15b5f928a06c91f0"
  },
  {
   "cell_type": "code",
   "outputs": [],
   "source": [
    "def predict_points(home, away):\n",
    "    #Check if teams are in the index\n",
    "    if home in df_team_strength.index and away in df_team_strength.index:\n",
    "        # goals_scored * goals_conceded\n",
    "        lamb_home = df_team_strength.at[home,'GoalsScored'] * df_team_strength.at[away,'GoalsConceded']\n",
    "        lamb_away = df_team_strength.at[away,'GoalsScored'] * df_team_strength.at[home,'GoalsConceded']\n",
    "        prob_home, prob_away, prob_draw = 0, 0, 0\n",
    "        for x in range(0,11): #number of goals home team\n",
    "            for y in range(0, 11): #number of goals away team\n",
    "                p = poisson.pmf(x, lamb_home) * poisson.pmf(y, lamb_away)\n",
    "                if x == y:\n",
    "                    prob_draw += p\n",
    "                elif x > y:\n",
    "                    prob_home += p\n",
    "                else:\n",
    "                    prob_away += p\n",
    "\n",
    "        points_home = 3 * prob_home + prob_draw\n",
    "        points_away = 3 * prob_away + prob_draw\n",
    "        return (points_home, points_away)\n",
    "    else:\n",
    "        return (0, 0)"
   ],
   "metadata": {
    "collapsed": false,
    "ExecuteTime": {
     "end_time": "2024-05-31T18:29:42.450026Z",
     "start_time": "2024-05-31T18:29:42.442982Z"
    }
   },
   "id": "3466f9894e695d37",
   "execution_count": 6
  },
  {
   "cell_type": "code",
   "outputs": [
    {
     "data": {
      "text/plain": "(2.3129151525530505, 0.5378377125059863)"
     },
     "execution_count": 7,
     "metadata": {},
     "output_type": "execute_result"
    }
   ],
   "source": [
    "predict_points('Argentina','Mexico')"
   ],
   "metadata": {
    "collapsed": false,
    "ExecuteTime": {
     "end_time": "2024-05-31T18:29:42.494781Z",
     "start_time": "2024-05-31T18:29:42.451040Z"
    }
   },
   "id": "c7426228f083502e",
   "execution_count": 7
  },
  {
   "cell_type": "markdown",
   "source": [
    "<h2> 3. Prediciendo el mundial </h2>"
   ],
   "metadata": {
    "collapsed": false
   },
   "id": "ad7975f55bf45ec1"
  },
  {
   "cell_type": "code",
   "outputs": [],
   "source": [
    "# Dividiendo fixture en group , octavos, cuartos.\n",
    "df_fixture_group_48 = df_fixture[:48].copy()\n",
    "df_fixture_knockout = df_fixture[48:56].copy()\n",
    "df_fixture_quarter = df_fixture[56:60].copy()\n",
    "df_fixture_semi = df_fixture[60:62].copy()\n",
    "df_fixture_final = df_fixture[62:].copy()"
   ],
   "metadata": {
    "collapsed": false,
    "ExecuteTime": {
     "end_time": "2024-05-31T18:38:20.419428Z",
     "start_time": "2024-05-31T18:38:20.413030Z"
    }
   },
   "id": "ae9e2383be0dbb3c",
   "execution_count": 8
  },
  {
   "cell_type": "code",
   "outputs": [],
   "source": [
    "# Correr todos los partidos de la fase de grupo y actualizar las tablas de cada grupo\n",
    "for group in dict_table:\n",
    "    teams_in_group = dict_table[group]['Team'].values\n",
    "    df_fixture_group_6 = df_fixture_group_48[df_fixture_group_48['home'].isin(teams_in_group)]\n",
    "    for index, row in df_fixture_group_6.iterrows():\n",
    "        home, away = row['home'], row['away']\n",
    "        points_home, points_away = predict_points(home, away)\n",
    "        dict_table[group].loc[dict_table[group]['Team'] == home, 'Pts'] += points_home\n",
    "        dict_table[group].loc[dict_table[group]['Team'] == away, 'Pts'] += points_away\n",
    "\n",
    "    dict_table[group] = dict_table[group].sort_values('Pts', ascending=False).reset_index()\n",
    "    dict_table[group] = dict_table[group][['Team', 'Pts']]\n",
    "    dict_table[group] = dict_table[group].round(0)"
   ],
   "metadata": {
    "collapsed": false,
    "ExecuteTime": {
     "end_time": "2024-05-31T18:48:14.081879Z",
     "start_time": "2024-05-31T18:48:12.794308Z"
    }
   },
   "id": "80ed1f18d8a7d92b",
   "execution_count": 9
  },
  {
   "cell_type": "code",
   "outputs": [
    {
     "data": {
      "text/plain": "         Team  Pts\n0      Mexico  8.0\n1     Croatia  8.0\n2  Brazil (H)  7.0\n3    Cameroon  1.0",
      "text/html": "<div>\n<style scoped>\n    .dataframe tbody tr th:only-of-type {\n        vertical-align: middle;\n    }\n\n    .dataframe tbody tr th {\n        vertical-align: top;\n    }\n\n    .dataframe thead th {\n        text-align: right;\n    }\n</style>\n<table border=\"1\" class=\"dataframe\">\n  <thead>\n    <tr style=\"text-align: right;\">\n      <th></th>\n      <th>Team</th>\n      <th>Pts</th>\n    </tr>\n  </thead>\n  <tbody>\n    <tr>\n      <th>0</th>\n      <td>Mexico</td>\n      <td>8.0</td>\n    </tr>\n    <tr>\n      <th>1</th>\n      <td>Croatia</td>\n      <td>8.0</td>\n    </tr>\n    <tr>\n      <th>2</th>\n      <td>Brazil (H)</td>\n      <td>7.0</td>\n    </tr>\n    <tr>\n      <th>3</th>\n      <td>Cameroon</td>\n      <td>1.0</td>\n    </tr>\n  </tbody>\n</table>\n</div>"
     },
     "execution_count": 11,
     "metadata": {},
     "output_type": "execute_result"
    }
   ],
   "source": [
    "dict_table['Grupo A']"
   ],
   "metadata": {
    "collapsed": false,
    "ExecuteTime": {
     "end_time": "2024-05-31T18:48:22.521654Z",
     "start_time": "2024-05-31T18:48:22.513654Z"
    }
   },
   "id": "3e18889648ee41e6",
   "execution_count": 11
  },
  {
   "cell_type": "markdown",
   "source": [
    "## Knock out\n"
   ],
   "metadata": {
    "collapsed": false
   },
   "id": "69381f8bb0656343"
  },
  {
   "cell_type": "code",
   "outputs": [
    {
     "data": {
      "text/plain": "               home     score                away  year\n48  Winners Group A  Match 49  Runners-up Group B  2022\n49  Winners Group C  Match 50  Runners-up Group D  2022\n50  Winners Group D  Match 52  Runners-up Group C  2022\n51  Winners Group B  Match 51  Runners-up Group A  2022\n52  Winners Group E  Match 53  Runners-up Group F  2022\n53  Winners Group G  Match 54  Runners-up Group H  2022\n54  Winners Group F  Match 55  Runners-up Group E  2022\n55  Winners Group H  Match 56  Runners-up Group G  2022",
      "text/html": "<div>\n<style scoped>\n    .dataframe tbody tr th:only-of-type {\n        vertical-align: middle;\n    }\n\n    .dataframe tbody tr th {\n        vertical-align: top;\n    }\n\n    .dataframe thead th {\n        text-align: right;\n    }\n</style>\n<table border=\"1\" class=\"dataframe\">\n  <thead>\n    <tr style=\"text-align: right;\">\n      <th></th>\n      <th>home</th>\n      <th>score</th>\n      <th>away</th>\n      <th>year</th>\n    </tr>\n  </thead>\n  <tbody>\n    <tr>\n      <th>48</th>\n      <td>Winners Group A</td>\n      <td>Match 49</td>\n      <td>Runners-up Group B</td>\n      <td>2022</td>\n    </tr>\n    <tr>\n      <th>49</th>\n      <td>Winners Group C</td>\n      <td>Match 50</td>\n      <td>Runners-up Group D</td>\n      <td>2022</td>\n    </tr>\n    <tr>\n      <th>50</th>\n      <td>Winners Group D</td>\n      <td>Match 52</td>\n      <td>Runners-up Group C</td>\n      <td>2022</td>\n    </tr>\n    <tr>\n      <th>51</th>\n      <td>Winners Group B</td>\n      <td>Match 51</td>\n      <td>Runners-up Group A</td>\n      <td>2022</td>\n    </tr>\n    <tr>\n      <th>52</th>\n      <td>Winners Group E</td>\n      <td>Match 53</td>\n      <td>Runners-up Group F</td>\n      <td>2022</td>\n    </tr>\n    <tr>\n      <th>53</th>\n      <td>Winners Group G</td>\n      <td>Match 54</td>\n      <td>Runners-up Group H</td>\n      <td>2022</td>\n    </tr>\n    <tr>\n      <th>54</th>\n      <td>Winners Group F</td>\n      <td>Match 55</td>\n      <td>Runners-up Group E</td>\n      <td>2022</td>\n    </tr>\n    <tr>\n      <th>55</th>\n      <td>Winners Group H</td>\n      <td>Match 56</td>\n      <td>Runners-up Group G</td>\n      <td>2022</td>\n    </tr>\n  </tbody>\n</table>\n</div>"
     },
     "execution_count": 12,
     "metadata": {},
     "output_type": "execute_result"
    }
   ],
   "source": [
    "df_fixture_knockout"
   ],
   "metadata": {
    "collapsed": false,
    "ExecuteTime": {
     "end_time": "2024-05-31T18:50:55.513324Z",
     "start_time": "2024-05-31T18:50:55.503791Z"
    }
   },
   "id": "1bde347e2a05f1a2",
   "execution_count": 12
  },
  {
   "cell_type": "code",
   "outputs": [
    {
     "data": {
      "text/plain": "               home     score                away  year winner\n48  Winners Group A  Match 49  Runners-up Group B  2022      ?\n49  Winners Group C  Match 50  Runners-up Group D  2022      ?\n50  Winners Group D  Match 52  Runners-up Group C  2022      ?\n51  Winners Group B  Match 51  Runners-up Group A  2022      ?\n52  Winners Group E  Match 53  Runners-up Group F  2022      ?\n53  Winners Group G  Match 54  Runners-up Group H  2022      ?\n54  Winners Group F  Match 55  Runners-up Group E  2022      ?\n55  Winners Group H  Match 56  Runners-up Group G  2022      ?",
      "text/html": "<div>\n<style scoped>\n    .dataframe tbody tr th:only-of-type {\n        vertical-align: middle;\n    }\n\n    .dataframe tbody tr th {\n        vertical-align: top;\n    }\n\n    .dataframe thead th {\n        text-align: right;\n    }\n</style>\n<table border=\"1\" class=\"dataframe\">\n  <thead>\n    <tr style=\"text-align: right;\">\n      <th></th>\n      <th>home</th>\n      <th>score</th>\n      <th>away</th>\n      <th>year</th>\n      <th>winner</th>\n    </tr>\n  </thead>\n  <tbody>\n    <tr>\n      <th>48</th>\n      <td>Winners Group A</td>\n      <td>Match 49</td>\n      <td>Runners-up Group B</td>\n      <td>2022</td>\n      <td>?</td>\n    </tr>\n    <tr>\n      <th>49</th>\n      <td>Winners Group C</td>\n      <td>Match 50</td>\n      <td>Runners-up Group D</td>\n      <td>2022</td>\n      <td>?</td>\n    </tr>\n    <tr>\n      <th>50</th>\n      <td>Winners Group D</td>\n      <td>Match 52</td>\n      <td>Runners-up Group C</td>\n      <td>2022</td>\n      <td>?</td>\n    </tr>\n    <tr>\n      <th>51</th>\n      <td>Winners Group B</td>\n      <td>Match 51</td>\n      <td>Runners-up Group A</td>\n      <td>2022</td>\n      <td>?</td>\n    </tr>\n    <tr>\n      <th>52</th>\n      <td>Winners Group E</td>\n      <td>Match 53</td>\n      <td>Runners-up Group F</td>\n      <td>2022</td>\n      <td>?</td>\n    </tr>\n    <tr>\n      <th>53</th>\n      <td>Winners Group G</td>\n      <td>Match 54</td>\n      <td>Runners-up Group H</td>\n      <td>2022</td>\n      <td>?</td>\n    </tr>\n    <tr>\n      <th>54</th>\n      <td>Winners Group F</td>\n      <td>Match 55</td>\n      <td>Runners-up Group E</td>\n      <td>2022</td>\n      <td>?</td>\n    </tr>\n    <tr>\n      <th>55</th>\n      <td>Winners Group H</td>\n      <td>Match 56</td>\n      <td>Runners-up Group G</td>\n      <td>2022</td>\n      <td>?</td>\n    </tr>\n  </tbody>\n</table>\n</div>"
     },
     "execution_count": 13,
     "metadata": {},
     "output_type": "execute_result"
    }
   ],
   "source": [
    "for group in dict_table:\n",
    "    group_winner = dict_table[group].loc[0, 'Team']\n",
    "    runners_up = dict_table[group].loc[1, 'Team']\n",
    "    df_fixture_knockout.replace({f'Winners {group}':group_winner,\n",
    "                                 f'Runners-up {group}':runners_up}, inplace=True)\n",
    "\n",
    "df_fixture_knockout['winner'] = '?'\n",
    "df_fixture_knockout"
   ],
   "metadata": {
    "collapsed": false,
    "ExecuteTime": {
     "end_time": "2024-05-31T18:51:14.003233Z",
     "start_time": "2024-05-31T18:51:13.987232Z"
    }
   },
   "id": "54dacf5fb295e341",
   "execution_count": 13
  },
  {
   "cell_type": "code",
   "outputs": [],
   "source": [
    "def get_winner(df_fixture_updated):\n",
    "    for index, row in df_fixture_updated.iterrows():\n",
    "        home, away = row['home'], row['away']\n",
    "        points_home, points_away = predict_points(home, away)\n",
    "        if points_home > points_away:\n",
    "            winner = home\n",
    "        else:\n",
    "            winner = away\n",
    "        df_fixture_updated.loc[index, 'winner'] = winner\n",
    "    return df_fixture_updated"
   ],
   "metadata": {
    "collapsed": false,
    "ExecuteTime": {
     "end_time": "2024-05-31T18:51:20.749066Z",
     "start_time": "2024-05-31T18:51:20.743068Z"
    }
   },
   "id": "a10902c384dd1d20",
   "execution_count": 14
  },
  {
   "cell_type": "code",
   "outputs": [
    {
     "data": {
      "text/plain": "               home     score                away  year              winner\n48  Winners Group A  Match 49  Runners-up Group B  2022  Runners-up Group B\n49  Winners Group C  Match 50  Runners-up Group D  2022  Runners-up Group D\n50  Winners Group D  Match 52  Runners-up Group C  2022  Runners-up Group C\n51  Winners Group B  Match 51  Runners-up Group A  2022  Runners-up Group A\n52  Winners Group E  Match 53  Runners-up Group F  2022  Runners-up Group F\n53  Winners Group G  Match 54  Runners-up Group H  2022  Runners-up Group H\n54  Winners Group F  Match 55  Runners-up Group E  2022  Runners-up Group E\n55  Winners Group H  Match 56  Runners-up Group G  2022  Runners-up Group G",
      "text/html": "<div>\n<style scoped>\n    .dataframe tbody tr th:only-of-type {\n        vertical-align: middle;\n    }\n\n    .dataframe tbody tr th {\n        vertical-align: top;\n    }\n\n    .dataframe thead th {\n        text-align: right;\n    }\n</style>\n<table border=\"1\" class=\"dataframe\">\n  <thead>\n    <tr style=\"text-align: right;\">\n      <th></th>\n      <th>home</th>\n      <th>score</th>\n      <th>away</th>\n      <th>year</th>\n      <th>winner</th>\n    </tr>\n  </thead>\n  <tbody>\n    <tr>\n      <th>48</th>\n      <td>Winners Group A</td>\n      <td>Match 49</td>\n      <td>Runners-up Group B</td>\n      <td>2022</td>\n      <td>Runners-up Group B</td>\n    </tr>\n    <tr>\n      <th>49</th>\n      <td>Winners Group C</td>\n      <td>Match 50</td>\n      <td>Runners-up Group D</td>\n      <td>2022</td>\n      <td>Runners-up Group D</td>\n    </tr>\n    <tr>\n      <th>50</th>\n      <td>Winners Group D</td>\n      <td>Match 52</td>\n      <td>Runners-up Group C</td>\n      <td>2022</td>\n      <td>Runners-up Group C</td>\n    </tr>\n    <tr>\n      <th>51</th>\n      <td>Winners Group B</td>\n      <td>Match 51</td>\n      <td>Runners-up Group A</td>\n      <td>2022</td>\n      <td>Runners-up Group A</td>\n    </tr>\n    <tr>\n      <th>52</th>\n      <td>Winners Group E</td>\n      <td>Match 53</td>\n      <td>Runners-up Group F</td>\n      <td>2022</td>\n      <td>Runners-up Group F</td>\n    </tr>\n    <tr>\n      <th>53</th>\n      <td>Winners Group G</td>\n      <td>Match 54</td>\n      <td>Runners-up Group H</td>\n      <td>2022</td>\n      <td>Runners-up Group H</td>\n    </tr>\n    <tr>\n      <th>54</th>\n      <td>Winners Group F</td>\n      <td>Match 55</td>\n      <td>Runners-up Group E</td>\n      <td>2022</td>\n      <td>Runners-up Group E</td>\n    </tr>\n    <tr>\n      <th>55</th>\n      <td>Winners Group H</td>\n      <td>Match 56</td>\n      <td>Runners-up Group G</td>\n      <td>2022</td>\n      <td>Runners-up Group G</td>\n    </tr>\n  </tbody>\n</table>\n</div>"
     },
     "execution_count": 15,
     "metadata": {},
     "output_type": "execute_result"
    }
   ],
   "source": [
    "get_winner(df_fixture_knockout)"
   ],
   "metadata": {
    "collapsed": false,
    "ExecuteTime": {
     "end_time": "2024-05-31T18:51:29.127722Z",
     "start_time": "2024-05-31T18:51:29.116194Z"
    }
   },
   "id": "14a72995772e1d8e",
   "execution_count": 15
  },
  {
   "cell_type": "markdown",
   "source": [
    "## Quarter Final"
   ],
   "metadata": {
    "collapsed": false
   },
   "id": "e28ac613f658d9f3"
  },
  {
   "cell_type": "code",
   "outputs": [],
   "source": [
    "def update_table(df_fixture_round_1, df_fixture_round_2):\n",
    "    for index, row in df_fixture_round_1.iterrows():\n",
    "        winner = df_fixture_round_1.loc[index, 'winner']\n",
    "        match = df_fixture_round_1.loc[index, 'score']\n",
    "        df_fixture_round_2.replace({f'Winners {match}':winner}, inplace=True)\n",
    "    df_fixture_round_2['winner'] = '?'\n",
    "    return df_fixture_round_2"
   ],
   "metadata": {
    "collapsed": false,
    "ExecuteTime": {
     "end_time": "2024-05-31T18:51:54.840943Z",
     "start_time": "2024-05-31T18:51:54.835746Z"
    }
   },
   "id": "9556c509fecf1930",
   "execution_count": 16
  },
  {
   "cell_type": "code",
   "outputs": [
    {
     "data": {
      "text/plain": "                  home     score                away  year winner\n56  Runners-up Group F  Match 58  Runners-up Group H  2022      ?\n57  Runners-up Group B  Match 57  Runners-up Group D  2022      ?\n58  Runners-up Group E  Match 60  Runners-up Group G  2022      ?\n59  Runners-up Group A  Match 59  Runners-up Group C  2022      ?",
      "text/html": "<div>\n<style scoped>\n    .dataframe tbody tr th:only-of-type {\n        vertical-align: middle;\n    }\n\n    .dataframe tbody tr th {\n        vertical-align: top;\n    }\n\n    .dataframe thead th {\n        text-align: right;\n    }\n</style>\n<table border=\"1\" class=\"dataframe\">\n  <thead>\n    <tr style=\"text-align: right;\">\n      <th></th>\n      <th>home</th>\n      <th>score</th>\n      <th>away</th>\n      <th>year</th>\n      <th>winner</th>\n    </tr>\n  </thead>\n  <tbody>\n    <tr>\n      <th>56</th>\n      <td>Runners-up Group F</td>\n      <td>Match 58</td>\n      <td>Runners-up Group H</td>\n      <td>2022</td>\n      <td>?</td>\n    </tr>\n    <tr>\n      <th>57</th>\n      <td>Runners-up Group B</td>\n      <td>Match 57</td>\n      <td>Runners-up Group D</td>\n      <td>2022</td>\n      <td>?</td>\n    </tr>\n    <tr>\n      <th>58</th>\n      <td>Runners-up Group E</td>\n      <td>Match 60</td>\n      <td>Runners-up Group G</td>\n      <td>2022</td>\n      <td>?</td>\n    </tr>\n    <tr>\n      <th>59</th>\n      <td>Runners-up Group A</td>\n      <td>Match 59</td>\n      <td>Runners-up Group C</td>\n      <td>2022</td>\n      <td>?</td>\n    </tr>\n  </tbody>\n</table>\n</div>"
     },
     "execution_count": 17,
     "metadata": {},
     "output_type": "execute_result"
    }
   ],
   "source": [
    "update_table(df_fixture_knockout, df_fixture_quarter)"
   ],
   "metadata": {
    "collapsed": false,
    "ExecuteTime": {
     "end_time": "2024-05-31T18:51:58.709061Z",
     "start_time": "2024-05-31T18:51:58.695283Z"
    }
   },
   "id": "9f1ebeb9e24bdff",
   "execution_count": 17
  },
  {
   "cell_type": "code",
   "outputs": [
    {
     "data": {
      "text/plain": "                  home     score                away  year              winner\n56  Runners-up Group F  Match 58  Runners-up Group H  2022  Runners-up Group H\n57  Runners-up Group B  Match 57  Runners-up Group D  2022  Runners-up Group D\n58  Runners-up Group E  Match 60  Runners-up Group G  2022  Runners-up Group G\n59  Runners-up Group A  Match 59  Runners-up Group C  2022  Runners-up Group C",
      "text/html": "<div>\n<style scoped>\n    .dataframe tbody tr th:only-of-type {\n        vertical-align: middle;\n    }\n\n    .dataframe tbody tr th {\n        vertical-align: top;\n    }\n\n    .dataframe thead th {\n        text-align: right;\n    }\n</style>\n<table border=\"1\" class=\"dataframe\">\n  <thead>\n    <tr style=\"text-align: right;\">\n      <th></th>\n      <th>home</th>\n      <th>score</th>\n      <th>away</th>\n      <th>year</th>\n      <th>winner</th>\n    </tr>\n  </thead>\n  <tbody>\n    <tr>\n      <th>56</th>\n      <td>Runners-up Group F</td>\n      <td>Match 58</td>\n      <td>Runners-up Group H</td>\n      <td>2022</td>\n      <td>Runners-up Group H</td>\n    </tr>\n    <tr>\n      <th>57</th>\n      <td>Runners-up Group B</td>\n      <td>Match 57</td>\n      <td>Runners-up Group D</td>\n      <td>2022</td>\n      <td>Runners-up Group D</td>\n    </tr>\n    <tr>\n      <th>58</th>\n      <td>Runners-up Group E</td>\n      <td>Match 60</td>\n      <td>Runners-up Group G</td>\n      <td>2022</td>\n      <td>Runners-up Group G</td>\n    </tr>\n    <tr>\n      <th>59</th>\n      <td>Runners-up Group A</td>\n      <td>Match 59</td>\n      <td>Runners-up Group C</td>\n      <td>2022</td>\n      <td>Runners-up Group C</td>\n    </tr>\n  </tbody>\n</table>\n</div>"
     },
     "execution_count": 18,
     "metadata": {},
     "output_type": "execute_result"
    }
   ],
   "source": [
    "get_winner(df_fixture_quarter)"
   ],
   "metadata": {
    "collapsed": false,
    "ExecuteTime": {
     "end_time": "2024-05-31T18:52:04.143412Z",
     "start_time": "2024-05-31T18:52:04.133092Z"
    }
   },
   "id": "b61ae75396c8a63",
   "execution_count": 18
  },
  {
   "cell_type": "markdown",
   "source": [
    "## Semifinal\n"
   ],
   "metadata": {
    "collapsed": false
   },
   "id": "5b27210a3457d474"
  },
  {
   "cell_type": "code",
   "outputs": [
    {
     "data": {
      "text/plain": "                  home     score                away  year winner\n60  Runners-up Group D  Match 61  Runners-up Group H  2022      ?\n61  Runners-up Group C  Match 62  Runners-up Group G  2022      ?",
      "text/html": "<div>\n<style scoped>\n    .dataframe tbody tr th:only-of-type {\n        vertical-align: middle;\n    }\n\n    .dataframe tbody tr th {\n        vertical-align: top;\n    }\n\n    .dataframe thead th {\n        text-align: right;\n    }\n</style>\n<table border=\"1\" class=\"dataframe\">\n  <thead>\n    <tr style=\"text-align: right;\">\n      <th></th>\n      <th>home</th>\n      <th>score</th>\n      <th>away</th>\n      <th>year</th>\n      <th>winner</th>\n    </tr>\n  </thead>\n  <tbody>\n    <tr>\n      <th>60</th>\n      <td>Runners-up Group D</td>\n      <td>Match 61</td>\n      <td>Runners-up Group H</td>\n      <td>2022</td>\n      <td>?</td>\n    </tr>\n    <tr>\n      <th>61</th>\n      <td>Runners-up Group C</td>\n      <td>Match 62</td>\n      <td>Runners-up Group G</td>\n      <td>2022</td>\n      <td>?</td>\n    </tr>\n  </tbody>\n</table>\n</div>"
     },
     "execution_count": 19,
     "metadata": {},
     "output_type": "execute_result"
    }
   ],
   "source": [
    "update_table(df_fixture_quarter, df_fixture_semi)"
   ],
   "metadata": {
    "collapsed": false,
    "ExecuteTime": {
     "end_time": "2024-05-31T18:52:14.593299Z",
     "start_time": "2024-05-31T18:52:14.581300Z"
    }
   },
   "id": "8d93729c1967362f",
   "execution_count": 19
  },
  {
   "cell_type": "code",
   "outputs": [
    {
     "data": {
      "text/plain": "                  home     score                away  year              winner\n60  Runners-up Group D  Match 61  Runners-up Group H  2022  Runners-up Group H\n61  Runners-up Group C  Match 62  Runners-up Group G  2022  Runners-up Group G",
      "text/html": "<div>\n<style scoped>\n    .dataframe tbody tr th:only-of-type {\n        vertical-align: middle;\n    }\n\n    .dataframe tbody tr th {\n        vertical-align: top;\n    }\n\n    .dataframe thead th {\n        text-align: right;\n    }\n</style>\n<table border=\"1\" class=\"dataframe\">\n  <thead>\n    <tr style=\"text-align: right;\">\n      <th></th>\n      <th>home</th>\n      <th>score</th>\n      <th>away</th>\n      <th>year</th>\n      <th>winner</th>\n    </tr>\n  </thead>\n  <tbody>\n    <tr>\n      <th>60</th>\n      <td>Runners-up Group D</td>\n      <td>Match 61</td>\n      <td>Runners-up Group H</td>\n      <td>2022</td>\n      <td>Runners-up Group H</td>\n    </tr>\n    <tr>\n      <th>61</th>\n      <td>Runners-up Group C</td>\n      <td>Match 62</td>\n      <td>Runners-up Group G</td>\n      <td>2022</td>\n      <td>Runners-up Group G</td>\n    </tr>\n  </tbody>\n</table>\n</div>"
     },
     "execution_count": 20,
     "metadata": {},
     "output_type": "execute_result"
    }
   ],
   "source": [
    "get_winner(df_fixture_semi)"
   ],
   "metadata": {
    "collapsed": false,
    "ExecuteTime": {
     "end_time": "2024-05-31T18:52:19.423495Z",
     "start_time": "2024-05-31T18:52:19.413493Z"
    }
   },
   "id": "8117f0d0eef89a8c",
   "execution_count": 20
  },
  {
   "cell_type": "markdown",
   "source": [
    "## Final"
   ],
   "metadata": {
    "collapsed": false
   },
   "id": "ab107e56e1627eac"
  },
  {
   "cell_type": "code",
   "outputs": [
    {
     "data": {
      "text/plain": "                  home     score                away  year winner\n62     Losers Match 61  Match 63     Losers Match 62  2022      ?\n63  Runners-up Group H  Match 64  Runners-up Group G  2022      ?",
      "text/html": "<div>\n<style scoped>\n    .dataframe tbody tr th:only-of-type {\n        vertical-align: middle;\n    }\n\n    .dataframe tbody tr th {\n        vertical-align: top;\n    }\n\n    .dataframe thead th {\n        text-align: right;\n    }\n</style>\n<table border=\"1\" class=\"dataframe\">\n  <thead>\n    <tr style=\"text-align: right;\">\n      <th></th>\n      <th>home</th>\n      <th>score</th>\n      <th>away</th>\n      <th>year</th>\n      <th>winner</th>\n    </tr>\n  </thead>\n  <tbody>\n    <tr>\n      <th>62</th>\n      <td>Losers Match 61</td>\n      <td>Match 63</td>\n      <td>Losers Match 62</td>\n      <td>2022</td>\n      <td>?</td>\n    </tr>\n    <tr>\n      <th>63</th>\n      <td>Runners-up Group H</td>\n      <td>Match 64</td>\n      <td>Runners-up Group G</td>\n      <td>2022</td>\n      <td>?</td>\n    </tr>\n  </tbody>\n</table>\n</div>"
     },
     "execution_count": 22,
     "metadata": {},
     "output_type": "execute_result"
    }
   ],
   "source": [
    "update_table(df_fixture_semi, df_fixture_final)"
   ],
   "metadata": {
    "collapsed": false,
    "ExecuteTime": {
     "end_time": "2024-05-31T18:52:34.139713Z",
     "start_time": "2024-05-31T18:52:34.128956Z"
    }
   },
   "id": "3373a174e03249f6",
   "execution_count": 22
  },
  {
   "cell_type": "code",
   "outputs": [
    {
     "data": {
      "text/plain": "                  home     score                away  year              winner\n62     Losers Match 61  Match 63     Losers Match 62  2022     Losers Match 62\n63  Runners-up Group H  Match 64  Runners-up Group G  2022  Runners-up Group G",
      "text/html": "<div>\n<style scoped>\n    .dataframe tbody tr th:only-of-type {\n        vertical-align: middle;\n    }\n\n    .dataframe tbody tr th {\n        vertical-align: top;\n    }\n\n    .dataframe thead th {\n        text-align: right;\n    }\n</style>\n<table border=\"1\" class=\"dataframe\">\n  <thead>\n    <tr style=\"text-align: right;\">\n      <th></th>\n      <th>home</th>\n      <th>score</th>\n      <th>away</th>\n      <th>year</th>\n      <th>winner</th>\n    </tr>\n  </thead>\n  <tbody>\n    <tr>\n      <th>62</th>\n      <td>Losers Match 61</td>\n      <td>Match 63</td>\n      <td>Losers Match 62</td>\n      <td>2022</td>\n      <td>Losers Match 62</td>\n    </tr>\n    <tr>\n      <th>63</th>\n      <td>Runners-up Group H</td>\n      <td>Match 64</td>\n      <td>Runners-up Group G</td>\n      <td>2022</td>\n      <td>Runners-up Group G</td>\n    </tr>\n  </tbody>\n</table>\n</div>"
     },
     "execution_count": 23,
     "metadata": {},
     "output_type": "execute_result"
    }
   ],
   "source": [
    "get_winner(df_fixture_final)"
   ],
   "metadata": {
    "collapsed": false,
    "ExecuteTime": {
     "end_time": "2024-05-31T18:52:37.237869Z",
     "start_time": "2024-05-31T18:52:37.227920Z"
    }
   },
   "id": "128fa83fcb97ce4f",
   "execution_count": 23
  }
 ],
 "metadata": {
  "kernelspec": {
   "display_name": "Python 3",
   "language": "python",
   "name": "python3"
  },
  "language_info": {
   "codemirror_mode": {
    "name": "ipython",
    "version": 2
   },
   "file_extension": ".py",
   "mimetype": "text/x-python",
   "name": "python",
   "nbconvert_exporter": "python",
   "pygments_lexer": "ipython2",
   "version": "2.7.6"
  }
 },
 "nbformat": 4,
 "nbformat_minor": 5
}
